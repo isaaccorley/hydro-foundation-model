{
 "cells": [
  {
   "cell_type": "code",
   "execution_count": 1,
   "metadata": {},
   "outputs": [],
   "source": [
    "import torch\n",
    "from src.model import swin_v2\n",
    "\n",
    "config_path = \"checkpoints/swin-v2-msi/config.yaml\"\n"
   ]
  },
  {
   "cell_type": "code",
   "execution_count": 2,
   "metadata": {},
   "outputs": [
    {
     "name": "stdout",
     "output_type": "stream",
     "text": [
      "Tutel has not been installed. To use Swin-MoE, please install Tutel; otherwise, just ignore this.\n",
      "=> merge config from checkpoints/swin-v2-msi/config.yaml\n"
     ]
    },
    {
     "name": "stderr",
     "output_type": "stream",
     "text": [
      "/root/miniconda3/envs/torchenv/lib/python3.11/site-packages/torch/functional.py:504: UserWarning: torch.meshgrid: in an upcoming release, it will be required to pass the indexing argument. (Triggered internally at ../aten/src/ATen/native/TensorShape.cpp:3526.)\n",
      "  return _VF.meshgrid(tensors, **kwargs)  # type: ignore[attr-defined]\n"
     ]
    }
   ],
   "source": [
    "model, transforms, config = swin_v2(config_path)"
   ]
  },
  {
   "cell_type": "code",
   "execution_count": 5,
   "metadata": {},
   "outputs": [],
   "source": [
    "model = model.to(\"cuda\")"
   ]
  },
  {
   "cell_type": "code",
   "execution_count": 4,
   "metadata": {},
   "outputs": [
    {
     "name": "stdout",
     "output_type": "stream",
     "text": [
      "torch.Size([1, 1024])\n"
     ]
    }
   ],
   "source": [
    "# Extract image level embeddings\n",
    "with torch.inference_mode():\n",
    "    x = torch.randn(1, 12, 256, 256)\n",
    "    x = transforms(x)\n",
    "    embeddings = model.forward_features(x)\n",
    "    print(embeddings.shape)"
   ]
  },
  {
   "cell_type": "code",
   "execution_count": 5,
   "metadata": {},
   "outputs": [
    {
     "name": "stdout",
     "output_type": "stream",
     "text": [
      "0 torch.Size([1, 128, 64, 64])\n",
      "1 torch.Size([1, 256, 32, 32])\n",
      "2 torch.Size([1, 512, 16, 16])\n",
      "3 torch.Size([1, 1024, 8, 8])\n",
      "4 torch.Size([1, 1024, 8, 8])\n"
     ]
    }
   ],
   "source": [
    "# Extract intermediate feature embeddings\n",
    "with torch.inference_mode():\n",
    "    x = torch.randn(1, 12, 256, 256)\n",
    "    x = transforms(x)\n",
    "    features = model.get_intermediate_layers(x, n=(0, 1, 2, 3, 4), reshape=True)\n",
    "    for i, f in enumerate(features):\n",
    "        print(i, f.shape)"
   ]
  }
 ],
 "metadata": {
  "kernelspec": {
   "display_name": "torchenv",
   "language": "python",
   "name": "python3"
  },
  "language_info": {
   "codemirror_mode": {
    "name": "ipython",
    "version": 3
   },
   "file_extension": ".py",
   "mimetype": "text/x-python",
   "name": "python",
   "nbconvert_exporter": "python",
   "pygments_lexer": "ipython3",
   "version": "3.11.5"
  }
 },
 "nbformat": 4,
 "nbformat_minor": 2
}
