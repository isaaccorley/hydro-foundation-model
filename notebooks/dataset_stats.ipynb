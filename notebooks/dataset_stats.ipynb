{
 "cells": [
  {
   "cell_type": "code",
   "execution_count": 1,
   "metadata": {},
   "outputs": [],
   "source": [
    "import os\n",
    "\n",
    "os.chdir(\"..\")"
   ]
  },
  {
   "cell_type": "code",
   "execution_count": 2,
   "metadata": {},
   "outputs": [],
   "source": [
    "from src.datasets import MARIDA, MADOS, ShipS2AIS, SWED, EarthSurfaceWater\n",
    "from src.datasets.stats import RunningStatsButFast\n",
    "from torch.utils.data import DataLoader\n",
    "from tqdm import tqdm\n",
    "import torch"
   ]
  },
  {
   "cell_type": "code",
   "execution_count": 3,
   "metadata": {},
   "outputs": [],
   "source": [
    "# used this to compute which samples in the MARIDA and MADOS datasets have partial NaNs\n",
    "def check_nans(ds):\n",
    "    nan_idxs = []\n",
    "    for i in tqdm(range(len(ds))):\n",
    "        img = ds[i][\"image\"]\n",
    "        if torch.any(torch.isnan(img)):\n",
    "            nan_idxs.append(i)\n",
    "    return nan_idxs"
   ]
  },
  {
   "cell_type": "code",
   "execution_count": 3,
   "metadata": {},
   "outputs": [
    {
     "name": "stderr",
     "output_type": "stream",
     "text": [
      "  0%|          | 0/44 [00:00<?, ?it/s]"
     ]
    },
    {
     "name": "stderr",
     "output_type": "stream",
     "text": [
      "100%|██████████| 44/44 [00:01<00:00, 26.19it/s]"
     ]
    },
    {
     "name": "stdout",
     "output_type": "stream",
     "text": [
      "tensor([0.0520, 0.0478, 0.0406, 0.0316, 0.0297, 0.0346, 0.0388, 0.0344, 0.0392,\n",
      "        0.0236, 0.0159])\n",
      "tensor([0.0473, 0.0474, 0.0470, 0.0497, 0.0495, 0.0646, 0.0759, 0.0712, 0.0825,\n",
      "        0.0511, 0.0352])\n"
     ]
    },
    {
     "name": "stderr",
     "output_type": "stream",
     "text": [
      "\n"
     ]
    }
   ],
   "source": [
    "ds = MARIDA(root=\"data/benchmark-datasets/marida/\", split=\"train\")\n",
    "dl = DataLoader(ds, batch_size=16, num_workers=8)\n",
    "rs = RunningStatsButFast((11), (0, 2, 3))\n",
    "for batch in tqdm(dl):\n",
    "    rs(batch[\"image\"])\n",
    "print(rs.mean)\n",
    "print(rs.std)"
   ]
  },
  {
   "cell_type": "code",
   "execution_count": 4,
   "metadata": {},
   "outputs": [
    {
     "name": "stderr",
     "output_type": "stream",
     "text": [
      "100%|██████████| 90/90 [00:03<00:00, 22.88it/s]"
     ]
    },
    {
     "name": "stdout",
     "output_type": "stream",
     "text": [
      "tensor([0.0581, 0.0521, 0.0437, 0.0356, 0.0340, 0.0367, 0.0399, 0.0356, 0.0396,\n",
      "        0.0267, 0.0197])\n",
      "tensor([0.0323, 0.0344, 0.0355, 0.0376, 0.0377, 0.0497, 0.0586, 0.0554, 0.0640,\n",
      "        0.0419, 0.0300])\n"
     ]
    },
    {
     "name": "stderr",
     "output_type": "stream",
     "text": [
      "\n"
     ]
    }
   ],
   "source": [
    "ds = MADOS(root=\"data/benchmark-datasets/mados/\", split=\"train\")\n",
    "dl = DataLoader(ds, batch_size=16, num_workers=8)\n",
    "rs = RunningStatsButFast((11), (0, 2, 3))\n",
    "for batch in tqdm(dl):\n",
    "    rs(batch[\"image\"])\n",
    "print(rs.mean)\n",
    "print(rs.std)"
   ]
  },
  {
   "cell_type": "code",
   "execution_count": 5,
   "metadata": {},
   "outputs": [
    {
     "name": "stderr",
     "output_type": "stream",
     "text": [
      "  0%|          | 1/716 [00:00<03:53,  3.06it/s]"
     ]
    },
    {
     "name": "stderr",
     "output_type": "stream",
     "text": [
      "100%|██████████| 716/716 [00:07<00:00, 92.39it/s] \n"
     ]
    },
    {
     "name": "stdout",
     "output_type": "stream",
     "text": [
      "tensor([1570.0336, 1171.0029,  909.0641,  684.6077,  575.1781])\n",
      "tensor([746.2094, 672.5553, 673.0739, 815.1528, 666.2916])\n"
     ]
    }
   ],
   "source": [
    "ds = ShipS2AIS(root=\"data/benchmark-datasets/ship-s2-ais/\", split=\"train\", bands=\"all\")\n",
    "dl = DataLoader(ds, batch_size=16, num_workers=8)\n",
    "rs = RunningStatsButFast((5), (0, 2, 3))\n",
    "for batch in tqdm(dl):\n",
    "    rs(batch[\"image\"])\n",
    "print(rs.mean)\n",
    "print(rs.std)"
   ]
  },
  {
   "cell_type": "code",
   "execution_count": 7,
   "metadata": {},
   "outputs": [
    {
     "name": "stderr",
     "output_type": "stream",
     "text": [
      "100%|██████████| 1673/1673 [01:46<00:00, 15.66it/s]"
     ]
    },
    {
     "name": "stdout",
     "output_type": "stream",
     "text": [
      "tensor([ 560.0963,  669.8031,  938.8026, 1104.3842, 1374.6296, 1826.4390,\n",
      "        2012.0269, 2095.9023, 2159.6445, 2191.1631, 2105.7415, 1568.9823])\n",
      "tensor([ 678.8931,  748.4851,  918.1321, 1278.0764, 1362.1965, 1479.4902,\n",
      "        1598.6714, 1661.6722, 1692.9138, 1803.0081, 1924.1908, 1635.6689])\n"
     ]
    },
    {
     "name": "stderr",
     "output_type": "stream",
     "text": [
      "\n"
     ]
    }
   ],
   "source": [
    "ds = SWED(root=\"data/benchmark-datasets/SWED/\", split=\"train\")\n",
    "dl = DataLoader(ds, batch_size=16, num_workers=8)\n",
    "rs = RunningStatsButFast((12), (0, 2, 3))\n",
    "for batch in tqdm(dl):\n",
    "    rs(batch[\"image\"])\n",
    "print(rs.mean)\n",
    "print(rs.std)"
   ]
  },
  {
   "cell_type": "code",
   "execution_count": 8,
   "metadata": {},
   "outputs": [
    {
     "name": "stderr",
     "output_type": "stream",
     "text": [
      "100%|██████████| 64/64 [00:01<00:00, 43.29it/s]"
     ]
    },
    {
     "name": "stdout",
     "output_type": "stream",
     "text": [
      "tensor([ 771.4490,  989.0422,  975.8994, 2221.6182, 1854.8079, 1328.8887])\n",
      "tensor([ 738.8903,  812.4620, 1000.6935, 1314.1964, 1384.8275, 1225.1549])\n"
     ]
    },
    {
     "name": "stderr",
     "output_type": "stream",
     "text": [
      "\n"
     ]
    }
   ],
   "source": [
    "ds = EarthSurfaceWater(\n",
    "    root=\"data/benchmark-datasets/earth_surface_water\", split=\"train\", pad_sizes=False\n",
    ")\n",
    "dl = DataLoader(ds, batch_size=1, num_workers=8)\n",
    "rs = RunningStatsButFast((6), (0, 2, 3))\n",
    "for batch in tqdm(dl):\n",
    "    rs(batch[\"image\"])\n",
    "print(rs.mean)\n",
    "print(rs.std)"
   ]
  },
  {
   "cell_type": "code",
   "execution_count": null,
   "metadata": {},
   "outputs": [],
   "source": []
  }
 ],
 "metadata": {
  "kernelspec": {
   "display_name": "geo",
   "language": "python",
   "name": "python3"
  },
  "language_info": {
   "codemirror_mode": {
    "name": "ipython",
    "version": 3
   },
   "file_extension": ".py",
   "mimetype": "text/x-python",
   "name": "python",
   "nbconvert_exporter": "python",
   "pygments_lexer": "ipython3",
   "version": "3.12.8"
  }
 },
 "nbformat": 4,
 "nbformat_minor": 2
}
