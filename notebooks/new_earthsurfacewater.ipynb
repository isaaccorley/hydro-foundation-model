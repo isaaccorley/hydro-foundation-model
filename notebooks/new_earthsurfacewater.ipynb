{
 "cells": [
  {
   "cell_type": "code",
   "execution_count": 1,
   "metadata": {},
   "outputs": [],
   "source": [
    "import os\n",
    "\n",
    "os.chdir(\"..\")"
   ]
  },
  {
   "cell_type": "code",
   "execution_count": 2,
   "metadata": {},
   "outputs": [],
   "source": [
    "from src.datasets import EarthSurfaceWater\n",
    "from tqdm import tqdm\n",
    "import torch\n",
    "import rasterio\n",
    "import numpy as np\n",
    "import os"
   ]
  },
  {
   "cell_type": "code",
   "execution_count": 3,
   "metadata": {},
   "outputs": [],
   "source": [
    "os.makedirs(\"benchmark-datasets/earth_surface_water/tra-patched_scene\", exist_ok=True)\n",
    "os.makedirs(\"benchmark-datasets/earth_surface_water/tra-patched_truth\", exist_ok=True)\n",
    "os.makedirs(\"benchmark-datasets/earth_surface_water/val-patched_scene\", exist_ok=True)\n",
    "os.makedirs(\"benchmark-datasets/earth_surface_water/val-patched_truth\", exist_ok=True)"
   ]
  },
  {
   "cell_type": "code",
   "execution_count": 4,
   "metadata": {},
   "outputs": [
    {
     "name": "stderr",
     "output_type": "stream",
     "text": [
      "100%|██████████| 64/64 [00:22<00:00,  2.91it/s]\n"
     ]
    }
   ],
   "source": [
    "image_profile = {\n",
    "    \"driver\": \"GTiff\",\n",
    "    \"dtype\": \"uint16\",\n",
    "    \"compress\": \"lzw\",\n",
    "    \"predictor\": 2,\n",
    "    \"nodata\": 0,\n",
    "    \"width\": 256,\n",
    "    \"height\": 256,\n",
    "    \"count\": 6,\n",
    "}\n",
    "\n",
    "mask_profile = {\n",
    "    \"driver\": \"GTiff\",\n",
    "    \"dtype\": \"uint8\",\n",
    "    \"compress\": \"lzw\",\n",
    "    \"predictor\": 2,\n",
    "    \"nodata\": None,\n",
    "    \"width\": 256,\n",
    "    \"height\": 256,\n",
    "    \"count\": 1,\n",
    "}\n",
    "\n",
    "\n",
    "ds = EarthSurfaceWater(\n",
    "    root=\"benchmark-datasets/earth_surface_water\",\n",
    "    split=\"train\",\n",
    "    use_patched_version=False,\n",
    "    pad_sizes=True,\n",
    ")\n",
    "\n",
    "j = 0\n",
    "for i in tqdm(range(len(ds))):\n",
    "    image = ds[i][\"image\"]\n",
    "    mask = ds[i][\"mask\"]\n",
    "\n",
    "    for x in range(0, image.shape[1], 256):\n",
    "        for y in range(0, image.shape[2], 256):\n",
    "            image_patch = image[:, x : x + 256, y : y + 256]\n",
    "            mask_patch = mask[x : x + 256, y : y + 256]\n",
    "\n",
    "            if torch.all(image_patch == 0):\n",
    "                continue\n",
    "\n",
    "            with rasterio.open(\n",
    "                os.path.join(ds.root, \"tra-patched_scene\", f\"image_patch_{j}.tif\"),\n",
    "                \"w\",\n",
    "                **image_profile,\n",
    "            ) as dst:\n",
    "                dst.write(image_patch.numpy().astype(np.uint16))\n",
    "\n",
    "            with rasterio.open(\n",
    "                os.path.join(ds.root, \"tra-patched_truth\", f\"mask_patch_{j}.tif\"),\n",
    "                \"w\",\n",
    "                **mask_profile,\n",
    "            ) as dst:\n",
    "                dst.write(mask_patch.numpy().astype(np.uint8), 1)\n",
    "\n",
    "            j += 1"
   ]
  },
  {
   "cell_type": "code",
   "execution_count": 5,
   "metadata": {},
   "outputs": [
    {
     "name": "stderr",
     "output_type": "stream",
     "text": [
      "100%|██████████| 31/31 [00:11<00:00,  2.76it/s]\n"
     ]
    }
   ],
   "source": [
    "ds = EarthSurfaceWater(\n",
    "    root=\"benchmark-datasets/earth_surface_water\",\n",
    "    split=\"test\",\n",
    "    use_patched_version=False,\n",
    "    pad_sizes=True,\n",
    ")\n",
    "\n",
    "j = 0\n",
    "for i in tqdm(range(len(ds))):\n",
    "    image = ds[i][\"image\"]\n",
    "    mask = ds[i][\"mask\"]\n",
    "\n",
    "    for x in range(0, image.shape[1], 256):\n",
    "        for y in range(0, image.shape[2], 256):\n",
    "            image_patch = image[:, x : x + 256, y : y + 256]\n",
    "            mask_patch = mask[x : x + 256, y : y + 256]\n",
    "\n",
    "            if torch.all(image_patch == 0):\n",
    "                continue\n",
    "\n",
    "            with rasterio.open(\n",
    "                os.path.join(ds.root, \"val-patched_scene\", f\"image_patch_{j}.tif\"),\n",
    "                \"w\",\n",
    "                **image_profile,\n",
    "            ) as dst:\n",
    "                dst.write(image_patch.numpy().astype(np.uint16))\n",
    "\n",
    "            with rasterio.open(\n",
    "                os.path.join(ds.root, \"val-patched_truth\", f\"mask_patch_{j}.tif\"),\n",
    "                \"w\",\n",
    "                **mask_profile,\n",
    "            ) as dst:\n",
    "                dst.write(mask_patch.numpy().astype(np.uint8), 1)\n",
    "\n",
    "            j += 1"
   ]
  }
 ],
 "metadata": {
  "kernelspec": {
   "display_name": "hydro",
   "language": "python",
   "name": "python3"
  },
  "language_info": {
   "codemirror_mode": {
    "name": "ipython",
    "version": 3
   },
   "file_extension": ".py",
   "mimetype": "text/x-python",
   "name": "python",
   "nbconvert_exporter": "python",
   "pygments_lexer": "ipython3",
   "version": "3.10.16"
  }
 },
 "nbformat": 4,
 "nbformat_minor": 2
}
