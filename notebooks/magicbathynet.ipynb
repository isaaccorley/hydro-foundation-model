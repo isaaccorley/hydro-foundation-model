{
 "cells": [
  {
   "cell_type": "code",
   "execution_count": 1,
   "metadata": {},
   "outputs": [],
   "source": [
    "import rasterio\n",
    "import numpy as np"
   ]
  },
  {
   "cell_type": "code",
   "execution_count": 34,
   "metadata": {},
   "outputs": [],
   "source": [
    "train_samples = [\n",
    "    \"409\",\n",
    "    \"418\",\n",
    "    \"350\",\n",
    "    \"399\",\n",
    "    \"361\",\n",
    "    \"430\",\n",
    "    \"380\",\n",
    "    \"359\",\n",
    "    \"371\",\n",
    "    \"377\",\n",
    "    \"379\",\n",
    "    \"360\",\n",
    "    \"368\",\n",
    "    \"419\",\n",
    "    \"389\",\n",
    "    \"420\",\n",
    "    \"401\",\n",
    "    \"408\",\n",
    "    \"352\",\n",
    "    \"388\",\n",
    "    \"362\",\n",
    "    \"421\",\n",
    "    \"412\",\n",
    "    \"351\",\n",
    "    \"349\",\n",
    "    \"390\",\n",
    "    \"400\",\n",
    "    \"378\",\n",
    "]\n",
    "test_samples = [\"411\", \"387\", \"410\", \"398\", \"370\", \"369\", \"397\"]"
   ]
  },
  {
   "cell_type": "code",
   "execution_count": 135,
   "metadata": {},
   "outputs": [],
   "source": [
    "palette = {\n",
    "    0: (0, 128, 0),  # poseidonia\n",
    "    1: (0, 0, 255),  # rock\n",
    "    2: (255, 0, 0),  # macroalgae\n",
    "    3: (255, 128, 0),  # sand\n",
    "    4: (0, 0, 0),  # Undefined (black)\n",
    "}\n",
    "invert_palette = {v: k for k, v in palette.items()}\n",
    "\n",
    "\n",
    "def convert_from_color(arr_3d, palette=invert_palette):\n",
    "    \"\"\"RGB-color encoding to grayscale labels\"\"\"\n",
    "    arr_2d = np.zeros((arr_3d.shape[0], arr_3d.shape[1]), dtype=np.uint8)\n",
    "\n",
    "    for c, i in palette.items():\n",
    "        m = np.all(arr_3d == np.array(c).reshape(1, 1, 3), axis=2)\n",
    "        arr_2d[m] = i\n",
    "\n",
    "    return arr_2d\n",
    "\n",
    "\n",
    "def extract_features(sample, r=2):\n",
    "    tx_train = []\n",
    "    ty_train = []\n",
    "    with rasterio.open(\n",
    "        f\"../data/benchmark-datasets/MagicBathyNet/agia_napa/gts/s2/gts_{sample}.tif\"\n",
    "    ) as f:\n",
    "        mask = f.read().transpose(1, 2, 0)\n",
    "        mask = convert_from_color(mask)\n",
    "\n",
    "    with rasterio.open(\n",
    "        f\"../data/benchmark-datasets/MagicBathyNet/agia_napa/img/s2/img_{sample}.tif\"\n",
    "    ) as f:\n",
    "        img = f.read().transpose(1, 2, 0)\n",
    "\n",
    "    # pad mask with \"4\" on each side by 1 pixel\n",
    "    mask = np.pad(mask, r, \"constant\", constant_values=4)\n",
    "    # pad img with zeros on each side by 1 pixel\n",
    "    img = np.pad(img, ((r, r), (r, r), (0, 0)), \"constant\", constant_values=0)\n",
    "\n",
    "    xs, ys = np.where(mask != 4)\n",
    "\n",
    "    for x, y in zip(xs, ys):\n",
    "        feature = img[x - r : x + r + 1, y - r : y + r + 1].flatten()\n",
    "        tx_train.append(feature)\n",
    "        ty_train.append(mask[x, y])\n",
    "\n",
    "    return np.array(tx_train), np.array(ty_train)\n",
    "\n",
    "\n",
    "x_train = []\n",
    "y_train = []\n",
    "for sample in train_samples:\n",
    "    x, y = extract_features(sample)\n",
    "    x_train.append(x)\n",
    "    y_train.append(y)\n",
    "x_train = np.concatenate(x_train)\n",
    "y_train = np.concatenate(y_train)\n",
    "\n",
    "x_test = []\n",
    "y_test = []\n",
    "for sample in test_samples:\n",
    "    x, y = extract_features(sample)\n",
    "    x_test.append(x)\n",
    "    y_test.append(y)\n",
    "x_test = np.concatenate(x_test)\n",
    "y_test = np.concatenate(y_test)"
   ]
  },
  {
   "cell_type": "code",
   "execution_count": 136,
   "metadata": {},
   "outputs": [
    {
     "data": {
      "text/plain": [
       "((541, 75), (147, 75))"
      ]
     },
     "execution_count": 136,
     "metadata": {},
     "output_type": "execute_result"
    }
   ],
   "source": [
    "x_train.shape, x_test.shape"
   ]
  },
  {
   "cell_type": "code",
   "execution_count": 137,
   "metadata": {},
   "outputs": [],
   "source": [
    "from sklearn.ensemble import RandomForestClassifier\n",
    "from sklearn.metrics import f1_score"
   ]
  },
  {
   "cell_type": "code",
   "execution_count": 142,
   "metadata": {},
   "outputs": [
    {
     "data": {
      "text/plain": [
       "(array([0.86075949, 0.7826087 , 0.5       , 0.75      ]), 0.723342047330765)"
      ]
     },
     "execution_count": 142,
     "metadata": {},
     "output_type": "execute_result"
    }
   ],
   "source": [
    "model = RandomForestClassifier(\n",
    "    n_estimators=500, criterion=\"entropy\", max_depth=None, n_jobs=-1, class_weight=None\n",
    ")\n",
    "model.fit(x_train, y_train)\n",
    "y_pred = model.predict(x_test)\n",
    "f1_score(y_test, y_pred, average=None), np.mean(f1_score(y_test, y_pred, average=None))"
   ]
  },
  {
   "cell_type": "code",
   "execution_count": 75,
   "metadata": {},
   "outputs": [
    {
     "data": {
      "text/plain": [
       "68.6725"
      ]
     },
     "execution_count": 75,
     "metadata": {},
     "output_type": "execute_result"
    }
   ],
   "source": [
    "(84.21 + 25.00 + 90.70 + 74.78) / 4"
   ]
  }
 ],
 "metadata": {
  "kernelspec": {
   "display_name": "geospatiallib",
   "language": "python",
   "name": "python3"
  },
  "language_info": {
   "codemirror_mode": {
    "name": "ipython",
    "version": 3
   },
   "file_extension": ".py",
   "mimetype": "text/x-python",
   "name": "python",
   "nbconvert_exporter": "python",
   "pygments_lexer": "ipython3",
   "version": "3.11.9"
  }
 },
 "nbformat": 4,
 "nbformat_minor": 2
}
