{
 "cells": [
  {
   "cell_type": "code",
   "execution_count": 1,
   "metadata": {},
   "outputs": [],
   "source": [
    "from pprint import pprint\n",
    "\n",
    "import torch\n",
    "import torch.nn as nn\n",
    "import timm\n",
    "import kornia.augmentation as K\n",
    "from kornia.contrib import Lambda\n",
    "from faissknn import FaissKNNClassifier\n",
    "from sklearn.metrics import (\n",
    "    accuracy_score,\n",
    "    f1_score,\n",
    "    precision_score,\n",
    "    recall_score,\n",
    ")\n",
    "\n",
    "from src.model import swin_v2\n",
    "from src.datasets.ships2ais import ShipS2AISDataModule\n",
    "from src.utils import extract_features\n",
    "\n",
    "\n",
    "data_root = \"./data/ship-s2-ais/\"\n",
    "config_path = \"checkpoints/swin-v2-rgb/config.yaml\"\n",
    "device = torch.device(\"cuda:0\")"
   ]
  },
  {
   "cell_type": "code",
   "execution_count": 2,
   "metadata": {},
   "outputs": [],
   "source": [
    "dm = ShipS2AISDataModule(root=data_root, bands=\"rgb\")\n",
    "dm.setup()"
   ]
  },
  {
   "cell_type": "markdown",
   "metadata": {},
   "source": [
    "### Eval SwinV2 pretrained on Hydro dataset"
   ]
  },
  {
   "cell_type": "code",
   "execution_count": 3,
   "metadata": {},
   "outputs": [
    {
     "name": "stdout",
     "output_type": "stream",
     "text": [
      "Tutel has not been installed. To use Swin-MoE, please install Tutel; otherwise, just ignore this.\n",
      "=> merge config from checkpoints/swin-v2-rgb/config.yaml\n"
     ]
    },
    {
     "name": "stderr",
     "output_type": "stream",
     "text": [
      "/root/miniconda3/envs/torchenv/lib/python3.11/site-packages/torch/functional.py:504: UserWarning: torch.meshgrid: in an upcoming release, it will be required to pass the indexing argument. (Triggered internally at ../aten/src/ATen/native/TensorShape.cpp:3526.)\n",
      "  return _VF.meshgrid(tensors, **kwargs)  # type: ignore[attr-defined]\n"
     ]
    }
   ],
   "source": [
    "model, transforms, config = swin_v2(config_path)\n",
    "model = model.to(device)"
   ]
  },
  {
   "cell_type": "code",
   "execution_count": 3,
   "metadata": {},
   "outputs": [],
   "source": [
    "mean = torch.tensor(config.DATA.MEAN) / 10000.0\n",
    "std = torch.tensor(config.DATA.STD) / 10000.0\n",
    "\n",
    "if config.DATA.BANDS == \"rgb\":\n",
    "    mean = mean[[3, 2, 1]]\n",
    "    std = std[[3, 2, 1]]\n",
    "\n",
    "\n",
    "transforms = [\n",
    "    K.Resize((config.DATA.IMG_SIZE, config.DATA.IMG_SIZE)),\n",
    "    Lambda(lambda x: x / 10000.0),\n",
    "    K.Normalize(mean=mean, std=std),\n",
    "]\n",
    "transforms = nn.Sequential(*transforms).to(device)"
   ]
  },
  {
   "cell_type": "code",
   "execution_count": 5,
   "metadata": {},
   "outputs": [
    {
     "name": "stderr",
     "output_type": "stream",
     "text": [
      "100%|██████████| 358/358 [01:15<00:00,  4.76it/s]\n",
      "100%|██████████| 86/86 [00:18<00:00,  4.67it/s]\n"
     ]
    }
   ],
   "source": [
    "x_train, y_train = extract_features(model, dm.train_dataloader(), device, transforms=transforms)\n",
    "x_test, y_test = extract_features(model, dm.test_dataloader(), device, transforms=transforms)"
   ]
  },
  {
   "cell_type": "code",
   "execution_count": 6,
   "metadata": {},
   "outputs": [],
   "source": [
    "model = FaissKNNClassifier(\n",
    "    n_neighbors=5,\n",
    "    n_classes=2,\n",
    "    device=\"cuda:0\"\n",
    ")\n",
    "model.fit(x_train, y_train)\n",
    "y_pred = model.predict(x_test)"
   ]
  },
  {
   "cell_type": "code",
   "execution_count": 7,
   "metadata": {},
   "outputs": [
    {
     "name": "stdout",
     "output_type": "stream",
     "text": [
      "{'accuracy': 0.8765115426896299,\n",
      " 'f1_macro': 0.5357993172814213,\n",
      " 'f1_micro': 0.8765115426896299,\n",
      " 'f1_weighted': 0.8376021482567848,\n",
      " 'precision_macro': 0.661124012724216,\n",
      " 'precision_micro': 0.8765115426896299,\n",
      " 'precision_weighted': 0.8323591661055489,\n",
      " 'recall_macro': 0.5337417679837893,\n",
      " 'recall_micro': 0.8765115426896299,\n",
      " 'recall_weighted': 0.8765115426896299}\n"
     ]
    }
   ],
   "source": [
    "metrics = {\n",
    "    \"f1_weighted\": f1_score(y_test, y_pred, average=\"weighted\"),\n",
    "    \"f1_macro\": f1_score(y_test, y_pred, average=\"macro\"),\n",
    "    \"f1_micro\": f1_score(y_test, y_pred, average=\"micro\"),\n",
    "    \"precision_micro\": precision_score(y_test, y_pred, average=\"micro\"),\n",
    "    \"precision_macro\": precision_score(y_test, y_pred, average=\"macro\"),\n",
    "    \"precision_weighted\": precision_score(y_test, y_pred, average=\"weighted\"),\n",
    "    \"recall_micro\": recall_score(y_test, y_pred, average=\"micro\"),\n",
    "    \"recall_macro\": recall_score(y_test, y_pred, average=\"macro\"),\n",
    "    \"recall_weighted\": recall_score(y_test, y_pred, average=\"weighted\"),\n",
    "    \"accuracy\": accuracy_score(y_test, y_pred),\n",
    "}\n",
    "pprint(metrics)"
   ]
  },
  {
   "cell_type": "markdown",
   "metadata": {},
   "source": [
    "### Eval SwinV2 ImageNet"
   ]
  },
  {
   "cell_type": "code",
   "execution_count": 4,
   "metadata": {},
   "outputs": [],
   "source": [
    "model = timm.create_model(\"swinv2_base_window16_256\", pretrained=True).to(device)"
   ]
  },
  {
   "cell_type": "code",
   "execution_count": 5,
   "metadata": {},
   "outputs": [],
   "source": [
    "mean = torch.tensor(config.DATA.MEAN) / 10000.0\n",
    "std = torch.tensor(config.DATA.STD) / 10000.0\n",
    "\n",
    "if config.DATA.BANDS == \"rgb\":\n",
    "    mean = mean[[3, 2, 1]]\n",
    "    std = std[[3, 2, 1]]\n",
    "\n",
    "\n",
    "transforms = [\n",
    "    K.Resize(model.patch_embed.img_size),\n",
    "    Lambda(lambda x: x / 10000.0),\n",
    "    K.Normalize(mean=mean, std=std),\n",
    "]\n",
    "transforms = nn.Sequential(*transforms).to(device)"
   ]
  },
  {
   "cell_type": "code",
   "execution_count": 6,
   "metadata": {},
   "outputs": [
    {
     "name": "stderr",
     "output_type": "stream",
     "text": [
      "100%|██████████| 358/358 [01:14<00:00,  4.78it/s]\n",
      "100%|██████████| 86/86 [00:18<00:00,  4.69it/s]\n"
     ]
    }
   ],
   "source": [
    "x_train, y_train = extract_features(model, dm.train_dataloader(), device, transforms=transforms)\n",
    "x_test, y_test = extract_features(model, dm.test_dataloader(), device, transforms=transforms)"
   ]
  },
  {
   "cell_type": "code",
   "execution_count": 8,
   "metadata": {},
   "outputs": [],
   "source": [
    "model = FaissKNNClassifier(\n",
    "    n_neighbors=5,\n",
    "    n_classes=2,\n",
    "    device=\"cuda:0\"\n",
    ")\n",
    "model.fit(x_train, y_train)\n",
    "y_pred = model.predict(x_test)"
   ]
  },
  {
   "cell_type": "code",
   "execution_count": 9,
   "metadata": {},
   "outputs": [
    {
     "name": "stdout",
     "output_type": "stream",
     "text": [
      "{'accuracy': 0.9113228288750458,\n",
      " 'f1_macro': 0.7345492927402577,\n",
      " 'f1_micro': 0.9113228288750457,\n",
      " 'f1_weighted': 0.898939949828334,\n",
      " 'precision_macro': 0.8367945308330393,\n",
      " 'precision_micro': 0.9113228288750458,\n",
      " 'precision_weighted': 0.9015650324045857,\n",
      " 'recall_macro': 0.6886100557244175,\n",
      " 'recall_micro': 0.9113228288750458,\n",
      " 'recall_weighted': 0.9113228288750458}\n"
     ]
    }
   ],
   "source": [
    "metrics = {\n",
    "    \"f1_weighted\": f1_score(y_test, y_pred, average=\"weighted\"),\n",
    "    \"f1_macro\": f1_score(y_test, y_pred, average=\"macro\"),\n",
    "    \"f1_micro\": f1_score(y_test, y_pred, average=\"micro\"),\n",
    "    \"precision_micro\": precision_score(y_test, y_pred, average=\"micro\"),\n",
    "    \"precision_macro\": precision_score(y_test, y_pred, average=\"macro\"),\n",
    "    \"precision_weighted\": precision_score(y_test, y_pred, average=\"weighted\"),\n",
    "    \"recall_micro\": recall_score(y_test, y_pred, average=\"micro\"),\n",
    "    \"recall_macro\": recall_score(y_test, y_pred, average=\"macro\"),\n",
    "    \"recall_weighted\": recall_score(y_test, y_pred, average=\"weighted\"),\n",
    "    \"accuracy\": accuracy_score(y_test, y_pred),\n",
    "}\n",
    "pprint(metrics)"
   ]
  }
 ],
 "metadata": {
  "kernelspec": {
   "display_name": "torchenv",
   "language": "python",
   "name": "python3"
  },
  "language_info": {
   "codemirror_mode": {
    "name": "ipython",
    "version": 3
   },
   "file_extension": ".py",
   "mimetype": "text/x-python",
   "name": "python",
   "nbconvert_exporter": "python",
   "pygments_lexer": "ipython3",
   "version": "3.11.5"
  }
 },
 "nbformat": 4,
 "nbformat_minor": 2
}
